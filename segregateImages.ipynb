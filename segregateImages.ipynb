{
 "cells": [
  {
   "cell_type": "code",
   "execution_count": 16,
   "metadata": {},
   "outputs": [],
   "source": [
    "import numpy as np\n",
    "import pandas as pd\n",
    "import os\n",
    "import random\n",
    "import shutil"
   ]
  },
  {
   "cell_type": "code",
   "execution_count": 3,
   "metadata": {},
   "outputs": [
    {
     "data": {
      "text/plain": [
       "'C:\\\\Users\\\\india\\\\Desktop\\\\Stuff\\\\Projects\\\\Flower Classification\\\\HE_Challenge_data\\\\data'"
      ]
     },
     "execution_count": 3,
     "metadata": {},
     "output_type": "execute_result"
    }
   ],
   "source": [
    "source = os.getcwd()\n",
    "path_to_data = source + \"\\HE_Challenge_data\\data\"\n",
    "path_to_data"
   ]
  },
  {
   "cell_type": "code",
   "execution_count": 4,
   "metadata": {},
   "outputs": [
    {
     "data": {
      "text/html": [
       "<div>\n",
       "<style scoped>\n",
       "    .dataframe tbody tr th:only-of-type {\n",
       "        vertical-align: middle;\n",
       "    }\n",
       "\n",
       "    .dataframe tbody tr th {\n",
       "        vertical-align: top;\n",
       "    }\n",
       "\n",
       "    .dataframe thead th {\n",
       "        text-align: right;\n",
       "    }\n",
       "</style>\n",
       "<table border=\"1\" class=\"dataframe\">\n",
       "  <thead>\n",
       "    <tr style=\"text-align: right;\">\n",
       "      <th></th>\n",
       "      <th>image_id</th>\n",
       "      <th>category</th>\n",
       "    </tr>\n",
       "  </thead>\n",
       "  <tbody>\n",
       "    <tr>\n",
       "      <td>0</td>\n",
       "      <td>0</td>\n",
       "      <td>77</td>\n",
       "    </tr>\n",
       "    <tr>\n",
       "      <td>1</td>\n",
       "      <td>1</td>\n",
       "      <td>81</td>\n",
       "    </tr>\n",
       "    <tr>\n",
       "      <td>2</td>\n",
       "      <td>2</td>\n",
       "      <td>52</td>\n",
       "    </tr>\n",
       "    <tr>\n",
       "      <td>3</td>\n",
       "      <td>3</td>\n",
       "      <td>72</td>\n",
       "    </tr>\n",
       "    <tr>\n",
       "      <td>4</td>\n",
       "      <td>4</td>\n",
       "      <td>58</td>\n",
       "    </tr>\n",
       "  </tbody>\n",
       "</table>\n",
       "</div>"
      ],
      "text/plain": [
       "   image_id  category\n",
       "0         0        77\n",
       "1         1        81\n",
       "2         2        52\n",
       "3         3        72\n",
       "4         4        58"
      ]
     },
     "execution_count": 4,
     "metadata": {},
     "output_type": "execute_result"
    }
   ],
   "source": [
    "data = pd.read_csv(path_to_data + \"\\\\train.csv\")\n",
    "data.head()"
   ]
  },
  {
   "cell_type": "code",
   "execution_count": 5,
   "metadata": {},
   "outputs": [],
   "source": [
    "ids = list(data['image_id'].values)\n",
    "category = list(data['category'].values)\n"
   ]
  },
  {
   "cell_type": "code",
   "execution_count": 6,
   "metadata": {},
   "outputs": [
    {
     "data": {
      "text/plain": [
       "array(['1', '2', '3', '4', '5', '6', '7', '8', '9', '10', '11', '12',\n",
       "       '13', '14', '15', '16', '17', '18', '19', '20', '21', '22', '23',\n",
       "       '24', '25', '26', '27', '28', '29', '30', '31', '32', '33', '34',\n",
       "       '35', '36', '37', '38', '39', '40', '41', '42', '43', '44', '45',\n",
       "       '46', '47', '48', '49', '50', '51', '52', '53', '54', '55', '56',\n",
       "       '57', '58', '59', '60', '61', '62', '63', '64', '65', '66', '67',\n",
       "       '68', '69', '70', '71', '72', '73', '74', '75', '76', '77', '78',\n",
       "       '79', '80', '81', '82', '83', '84', '85', '86', '87', '88', '89',\n",
       "       '90', '91', '92', '93', '94', '95', '96', '97', '98', '99', '100',\n",
       "       '101', '102'], dtype='<U21')"
      ]
     },
     "execution_count": 6,
     "metadata": {},
     "output_type": "execute_result"
    }
   ],
   "source": [
    "folders_to_be_created = np.unique(category)\n",
    "folders_to_be_created = folders_to_be_created.astype('str')\n",
    "folders_to_be_created"
   ]
  },
  {
   "cell_type": "code",
   "execution_count": 7,
   "metadata": {},
   "outputs": [],
   "source": [
    "for names in folders_to_be_created:\n",
    "    if not os.path.exists(path_to_data+\"\\\\training_data\\\\\"+names):\n",
    "        os.makedirs(os.path.join(path_to_data+\"\\\\training_data\\\\\",names))"
   ]
  },
  {
   "cell_type": "code",
   "execution_count": 8,
   "metadata": {},
   "outputs": [],
   "source": [
    "cur_path = path_to_data+\"\\\\train\\\\\"\n",
    "dest_path = path_to_data+\"\\\\training_data\\\\\""
   ]
  },
  {
   "cell_type": "code",
   "execution_count": 9,
   "metadata": {},
   "outputs": [],
   "source": [
    "for i in range(len(ids)):\n",
    "    cur_image = str(ids[i])+\".jpg\"\n",
    "    cur_label = str(category[i])\n",
    "    shutil.move(cur_path+cur_image,dest_path+cur_label)"
   ]
  },
  {
   "cell_type": "code",
   "execution_count": 28,
   "metadata": {},
   "outputs": [],
   "source": [
    "def split_data(original_dir,training_dir,validation_dir,split_prob):\n",
    "    \n",
    "    if os.path.exists(training_dir):\n",
    "        if training_dir.count(\"\\\\\")>1:\n",
    "            shutil.rmtree(training_dir, ignore_errors=False)\n",
    "            os.mkdir(training_dir)\n",
    "            print(\"Cleaned training directory\")\n",
    "        else:\n",
    "            print(\"Refusing to clean training directory\")\n",
    "    else:\n",
    "        os.mkdir(training_dir)\n",
    "        \n",
    "    if os.path.exists(validation_dir):\n",
    "        if validation_dir.count(\"\\\\\")>1:\n",
    "            shutil.rmtree(validation_dir, ignore_errors=False)\n",
    "            os.mkdir(validation_dir)\n",
    "            print(\"Cleaned validation directory\")\n",
    "        else:\n",
    "            print(\"Refusing to clean validation directory\")\n",
    "    else:\n",
    "        os.mkdir(validation_dir)\n",
    "        \n",
    "    training_set_length = 0\n",
    "    validation_set_length = 0\n",
    "    files_length = 0\n",
    "    \n",
    "    for subdir, dir, files in os.walk(original_dir):\n",
    "        category_name = os.path.basename(subdir)\n",
    "\n",
    "        if category_name==os.path.basename(original_dir):\n",
    "            continue\n",
    "\n",
    "        train_data_cat_dir = training_dir + '\\\\' + category_name\n",
    "        validation_data_cat_dir = validation_dir + '\\\\' + category_name\n",
    "\n",
    "        if not os.path.exists(train_data_cat_dir):\n",
    "            os.mkdir(train_data_cat_dir)\n",
    "\n",
    "        if not os.path.exists(validation_data_cat_dir):\n",
    "            os.mkdir(validation_data_cat_dir)\n",
    "    \n",
    "    \n",
    "        for file in files:\n",
    "                input_file = os.path.join(subdir, file)\n",
    "                prob = random.random()\n",
    "                if prob < split_prob:\n",
    "                    shutil.copy(input_file, validation_dir + '\\\\' + category_name + '\\\\' + file)\n",
    "                    validation_set_length += 1\n",
    "                else:\n",
    "                    shutil.copy(input_file, training_dir + '\\\\' + category_name + '\\\\' + file)\n",
    "                    training_set_length += 1\n",
    "                \n",
    "    print(str(training_set_length)+\" training files\")\n",
    "    print(str(validation_set_length)+\" validation files\")"
   ]
  },
  {
   "cell_type": "code",
   "execution_count": 29,
   "metadata": {},
   "outputs": [
    {
     "name": "stdout",
     "output_type": "stream",
     "text": [
      "13082 training files\n",
      "5458 validation files\n"
     ]
    }
   ],
   "source": [
    "split_data(path_to_data + \"\\\\training_data\", path_to_data + \"\\\\train_split\", path_to_data + \"\\\\valid_split\", 0.3)"
   ]
  },
  {
   "cell_type": "code",
   "execution_count": null,
   "metadata": {},
   "outputs": [],
   "source": []
  }
 ],
 "metadata": {
  "kernelspec": {
   "display_name": "Python 3",
   "language": "python",
   "name": "python3"
  },
  "language_info": {
   "codemirror_mode": {
    "name": "ipython",
    "version": 3
   },
   "file_extension": ".py",
   "mimetype": "text/x-python",
   "name": "python",
   "nbconvert_exporter": "python",
   "pygments_lexer": "ipython3",
   "version": "3.7.4"
  }
 },
 "nbformat": 4,
 "nbformat_minor": 2
}
