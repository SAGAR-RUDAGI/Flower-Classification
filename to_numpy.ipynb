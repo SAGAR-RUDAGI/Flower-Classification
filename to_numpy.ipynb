{
 "cells": [
  {
   "cell_type": "code",
   "execution_count": 3,
   "metadata": {},
   "outputs": [],
   "source": [
    "import cv2\n",
    "import glob\n",
    "import numpy as np\n",
    "import pandas as pd"
   ]
  },
  {
   "cell_type": "code",
   "execution_count": null,
   "metadata": {},
   "outputs": [],
   "source": [
    "x_train = []\n",
    "files = glob.glob(\".\\\\HE_Challenge_data\\\\data\\\\train\\\\*.jpg\")\n",
    "for file in files:\n",
    "    image = cv2.imread(file, 0)\n",
    "    x_train.append(image)\n",
    "\n",
    "x_train_numpy = np.asarray(x_train)\n",
    "\n",
    "np.save(\".\\\\\", x_train_numpy)\n",
    "\n",
    "x_test = []\n",
    "files = glob.glob(\".\\\\HE_Challenge_data\\\\data\\\\test\\\\*.jpg\")\n",
    "for file in files:\n",
    "    image = cv2.imread(file, 0)\n",
    "    x_test.append(image)\n",
    "\n",
    "x_test_numpy = np.asarray(x_test)\n",
    "\n",
    "np.save(\".\\\\\", x_test_numpy)\n",
    "\n",
    "y_label = []\n",
    "y = pd.read_csv('.\\\\HE_Challenge_Data\\\\data\\\\train.csv')\n",
    "y_label.append(y['category'])\n",
    "\n",
    "y_label = np.asarray(y_label)\n",
    "np.save(\".\\\\\", y_label)"
   ]
  },
  {
   "cell_type": "code",
   "execution_count": null,
   "metadata": {},
   "outputs": [],
   "source": []
  }
 ],
 "metadata": {
  "kernelspec": {
   "display_name": "Python 3",
   "language": "python",
   "name": "python3"
  },
  "language_info": {
   "codemirror_mode": {
    "name": "ipython",
    "version": 3
   },
   "file_extension": ".py",
   "mimetype": "text/x-python",
   "name": "python",
   "nbconvert_exporter": "python",
   "pygments_lexer": "ipython3",
   "version": "3.7.4"
  }
 },
 "nbformat": 4,
 "nbformat_minor": 2
}
